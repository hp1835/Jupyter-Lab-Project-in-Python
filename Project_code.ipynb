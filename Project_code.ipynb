{
  "nbformat": 4,
  "nbformat_minor": 0,
  "metadata": {
    "colab": {
      "provenance": []
    },
    "kernelspec": {
      "name": "python3",
      "display_name": "Python 3"
    },
    "language_info": {
      "name": "python"
    }
  },
  "cells": [
    {
      "cell_type": "code",
      "execution_count": null,
      "metadata": {
        "id": "VAHwBiPlv7gR"
      },
      "outputs": [],
      "source": [
        "import pandas as pd\n",
        "import numpy as np\n",
        "import re\n",
        "import string\n",
        "import matplotlib.pyplot as plt\n",
        "from sklearn.feature_extraction.text import TfidfVectorizer\n",
        "from sklearn.decomposition import PCA\n",
        "from sklearn.cluster import KMeans\n",
        "from sklearn.metrics import silhouette_score\n",
        "from google.colab import files\n",
        "\n",
        "\n",
        "uploaded = files.upload()\n",
        "\n",
        "\n",
        "fd_fake = pd.read_csv('Fake.csv')\n",
        "fd_true = pd.read_csv('True.csv')"
      ]
    },
    {
      "cell_type": "code",
      "source": [
        "fd_fake[\"class\"] = 0\n",
        "fd_true[\"class\"] = 1\n",
        "\n",
        "fd_margin = pd.concat([fd_fake, fd_true], axis=0)\n",
        "\n",
        "print(\"Columns in the DataFrame:\", fd_margin.columns)\n",
        "print(\"First few rows of the DataFrame:\", fd_margin.head())"
      ],
      "metadata": {
        "id": "59OOI3ASwAyj"
      },
      "execution_count": null,
      "outputs": []
    },
    {
      "cell_type": "code",
      "source": [
        "fd = fd_margin.sample(frac=1).reset_index(drop=True)"
      ],
      "metadata": {
        "id": "FrmXC9ofwEoD"
      },
      "execution_count": null,
      "outputs": []
    },
    {
      "cell_type": "code",
      "source": [
        "def wordopt(text):\n",
        "    text = text.lower()\n",
        "    text = re.sub('\\[.*?\\]', '', text)\n",
        "    text = re.sub(\"\\\\W\", \" \", text)\n",
        "    text = re.sub('https?://\\S+|www\\.\\S+', '', text)\n",
        "    text = re.sub('<.*?>+', '', text)\n",
        "    text = re.sub('[%s]' % re.escape(string.punctuation), '', text)\n",
        "    text = re.sub('\\n', '', text)\n",
        "    text = re.sub('\\w*\\d\\w*', '', text)\n",
        "    return text"
      ],
      "metadata": {
        "id": "sa4WQZS9wGf0"
      },
      "execution_count": null,
      "outputs": []
    },
    {
      "cell_type": "code",
      "source": [
        "fd[\"text\"] = fd[\"text\"].apply(wordopt)"
      ],
      "metadata": {
        "id": "Igi_E5NSwM1C"
      },
      "execution_count": null,
      "outputs": []
    },
    {
      "cell_type": "code",
      "source": [
        "vec = TfidfVectorizer(max_features=1000, stop_words='english')\n",
        "x_text = vec.fit_transform(fd[\"text\"])"
      ],
      "metadata": {
        "id": "rKnBdKEJwOvB"
      },
      "execution_count": null,
      "outputs": []
    },
    {
      "cell_type": "code",
      "source": [
        "vec_title = TfidfVectorizer(max_features=500, stop_words='english')\n",
        "x_title = vec_title.fit_transform(fd[\"title\"])\n",
        "\n",
        "vec_subject = TfidfVectorizer(max_features=100, stop_words='english')\n",
        "x_subject = vec_subject.fit_transform(fd[\"subject\"])"
      ],
      "metadata": {
        "id": "X7cX91u8wQRb"
      },
      "execution_count": null,
      "outputs": []
    },
    {
      "cell_type": "code",
      "source": [
        "from scipy.sparse import hstack\n",
        "x_combined = hstack([x_text, x_title, x_subject])"
      ],
      "metadata": {
        "id": "AlP17b60way8"
      },
      "execution_count": null,
      "outputs": []
    },
    {
      "cell_type": "code",
      "source": [
        "kmeans = KMeans(n_clusters=2, random_state=0)\n",
        "kmeans.fit(x_combined)\n",
        "\n",
        "clusters = kmeans.labels_\n",
        "fd[\"cluster\"] = clusters"
      ],
      "metadata": {
        "id": "WyOwBP13wcod"
      },
      "execution_count": null,
      "outputs": []
    },
    {
      "cell_type": "code",
      "source": [
        "def predict_news(article, title, subject):\n",
        "    cleaned_article = wordopt(article)\n",
        "    cleaned_title = wordopt(title)\n",
        "    cleaned_subject = wordopt(subject)\n",
        "\n",
        "    vectorized_article = vec.transform([cleaned_article])\n",
        "    vectorized_title = vec_title.transform([cleaned_title])\n",
        "    vectorized_subject = vec_subject.transform([cleaned_subject])\n",
        "\n",
        "    combined_vector = hstack([vectorized_article, vectorized_title, vectorized_subject])\n",
        "\n",
        "    cluster_label = kmeans.predict(combined_vector)[0]\n",
        "\n",
        "    if 'class' in fd.columns:\n",
        "        majority_class = fd[fd['cluster'] == cluster_label]['class'].mode()[0]\n",
        "        return 'Fake' if majority_class == 0 else 'True'\n",
        "    else:\n",
        "        print(\"Error: 'class' column not found in the DataFrame.\")\n",
        "        return None"
      ],
      "metadata": {
        "id": "9iBNTea3wiHA"
      },
      "execution_count": null,
      "outputs": []
    },
    {
      "cell_type": "code",
      "source": [
        "new_article = input(\"Enter the news article to check if it is True or Fake: \")\n",
        "new_title = input(\"Enter the title of the news article: \")\n",
        "new_subject = input(\"Enter the subject of the news article: \")"
      ],
      "metadata": {
        "id": "R2jo7eQkwjg-"
      },
      "execution_count": null,
      "outputs": []
    },
    {
      "cell_type": "code",
      "source": [
        "result = predict_news(new_article, new_title, new_subject)\n",
        "if result:\n",
        "    print(f\"The news article is: {result}\")"
      ],
      "metadata": {
        "id": "ufM6vpI1wlYg"
      },
      "execution_count": null,
      "outputs": []
    },
    {
      "cell_type": "code",
      "source": [
        "pca = PCA(n_components=2)\n",
        "x_reduced = pca.fit_transform(x_combined.toarray())\n",
        "plt.figure(figsize=(10, 6))\n",
        "plt.scatter(x_reduced[:, 0], x_reduced[:, 1], c=clusters, cmap='viridis', marker='o')\n",
        "plt.title(\"KMeans Clustering of News Data\")\n",
        "plt.xlabel(\"PCA Component 1\")\n",
        "plt.ylabel(\"PCA Component 2\")\n",
        "plt.colorbar(label=\"Cluster\")\n",
        "plt.show()\n",
        "\n",
        "sil_score = silhouette_score(x_combined, clusters)\n",
        "print(f\"Silhouette Score: {sil_score}\")"
      ],
      "metadata": {
        "id": "p-e1NmjFwnKO"
      },
      "execution_count": null,
      "outputs": []
    }
  ]
}